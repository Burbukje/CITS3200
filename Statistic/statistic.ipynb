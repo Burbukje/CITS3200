{
 "cells": [
  {
   "cell_type": "code",
   "execution_count": 8,
   "metadata": {},
   "outputs": [],
   "source": [
    "import pandas\n",
    "import numpy as np\n",
    "import re\n"
   ]
  },
  {
   "cell_type": "code",
   "execution_count": 2,
   "metadata": {},
   "outputs": [],
   "source": [
    "target_data_file = 'Weighted_Matched_Armadale-1.xlsx'"
   ]
  },
  {
   "cell_type": "code",
   "execution_count": 3,
   "metadata": {},
   "outputs": [],
   "source": [
    "def get_target_datafile(target_data_file):\n",
    "    data= pandas.read_excel(target_data_file,header=0)\n",
    "    data = pandas.DataFrame(data)\n",
    "    return data\n",
    "    \n",
    "    "
   ]
  },
  {
   "cell_type": "code",
   "execution_count": 54,
   "metadata": {},
   "outputs": [
    {
     "data": {
      "text/plain": [
       "', Mount Nasura '"
      ]
     },
     "execution_count": 54,
     "metadata": {},
     "output_type": "execute_result"
    }
   ],
   "source": [
    "data = get_target_datafile(target_data_file)\n",
    "data['formatted_address']\n",
    "matched = re.search(r'(?=,).*(?=WA 6112)','1 Carradine Rd, Mount Nasura WA 6112, Australia' )\n",
    "matched = re.search(r'(?=,).*(?=WA 6112)',data['formatted_address'][0] )\n",
    "matched.group(0)\n",
    "\n"
   ]
  },
  {
   "cell_type": "code",
   "execution_count": 68,
   "metadata": {},
   "outputs": [],
   "source": [
    "LGA = []\n",
    "for i in data.index:\n",
    "    #print(re.search(r'(?=,).*(?=WA)',data['formatted_address'][i] ).group(0))\n",
    "    a =data['formatted_address'][i].split('WA')[0]\n",
    "    a = a.split(',')[-1].strip()\n",
    "    LGA.append(a)"
   ]
  },
  {
   "cell_type": "code",
   "execution_count": 74,
   "metadata": {},
   "outputs": [
    {
     "data": {
      "text/plain": [
       "100         Armadale\n",
       "101     Piara Waters\n",
       "102             Como\n",
       "103          Hocking\n",
       "104    United States\n",
       "105     Mount Lawley\n",
       "106       Girrawheen\n",
       "107     Piara Waters\n",
       "108           Morley\n",
       "109          Kewdale\n",
       "110     Mount Nasura\n",
       "111     Mount Lawley\n",
       "112         Armadale\n",
       "113           Yokine\n",
       "114          Belmont\n",
       "115     Mount Lawley\n",
       "116     Mount Lawley\n",
       "117         Gosnells\n",
       "118     Piara Waters\n",
       "119     Mount Lawley\n",
       "120      Huntingdale\n",
       "121       Bedfordale\n",
       "122     Mount Lawley\n",
       "123     Mount Lawley\n",
       "124           Yokine\n",
       "125       Harrisdale\n",
       "126     Piara Waters\n",
       "127         Gosnells\n",
       "128         Gosnells\n",
       "129     Piara Waters\n",
       "Name: LGA, dtype: object"
      ]
     },
     "execution_count": 74,
     "metadata": {},
     "output_type": "execute_result"
    }
   ],
   "source": [
    "LGA = pandas.Series(LGA)\n",
    "data['LGA']= LGA\n",
    "data['LGA'][100:130]\n"
   ]
  }
 ],
 "metadata": {
  "kernelspec": {
   "display_name": "Python 3",
   "language": "python",
   "name": "python3"
  },
  "language_info": {
   "codemirror_mode": {
    "name": "ipython",
    "version": 3
   },
   "file_extension": ".py",
   "mimetype": "text/x-python",
   "name": "python",
   "nbconvert_exporter": "python",
   "pygments_lexer": "ipython3",
   "version": "3.10.4"
  },
  "orig_nbformat": 4,
  "vscode": {
   "interpreter": {
    "hash": "f3e357dbe0344725464eaea79b7d7d35c46d891eb27bde5bba2cdf41c7c6e293"
   }
  }
 },
 "nbformat": 4,
 "nbformat_minor": 2
}

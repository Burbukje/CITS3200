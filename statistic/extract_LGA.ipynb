{
 "cells": [
  {
   "cell_type": "code",
   "execution_count": 8,
   "metadata": {},
   "outputs": [],
   "source": [
    "import pandas\n",
    "import numpy as np\n",
    "import re\n"
   ]
  },
  {
   "cell_type": "code",
   "execution_count": 2,
   "metadata": {},
   "outputs": [],
   "source": [
    "target_data_file = 'Weighted_Matched_Armadale-1.xlsx'"
   ]
  },
  {
   "cell_type": "code",
   "execution_count": 3,
   "metadata": {},
   "outputs": [],
   "source": [
    "def get_target_datafile(target_data_file):\n",
    "    data= pandas.read_excel(target_data_file,header=0)\n",
    "    data = pandas.DataFrame(data)\n",
    "    return data\n",
    "    \n",
    "    "
   ]
  },
  {
   "cell_type": "code",
   "execution_count": 54,
   "metadata": {},
   "outputs": [
    {
     "data": {
      "text/plain": [
       "', Mount Nasura '"
      ]
     },
     "execution_count": 54,
     "metadata": {},
     "output_type": "execute_result"
    }
   ],
   "source": [
    "data = get_target_datafile(target_data_file)\n",
    "data['formatted_address']\n",
    "matched = re.search(r'(?=,).*(?=WA 6112)','1 Carradine Rd, Mount Nasura WA 6112, Australia' )\n",
    "matched = re.search(r'(?=,).*(?=WA 6112)',data['formatted_address'][0] )\n",
    "matched.group(0)\n",
    "\n"
   ]
  },
  {
   "cell_type": "code",
   "execution_count": 68,
   "metadata": {},
   "outputs": [],
   "source": [
    "LGA = []\n",
    "for i in data.index:\n",
    "    #print(re.search(r'(?=,).*(?=WA)',data['formatted_address'][i] ).group(0))\n",
    "    a =data['formatted_address'][i].split('WA')[0]\n",
    "    a = a.split(',')[-1].strip()\n",
    "    LGA.append(a)"
   ]
  },
  {
   "cell_type": "code",
   "execution_count": 79,
   "metadata": {},
   "outputs": [],
   "source": [
    "LGA = pandas.Series(LGA)\n",
    "data['LGA']= LGA\n",
    "\n",
    "data.to_excel(r'/Users/weihongtan/Desktop/data_statistic/CITS3200/Statistic/LGA_Armadale.xlsx', index = False)"
   ]
  },
  {
   "cell_type": "code",
   "execution_count": null,
   "metadata": {},
   "outputs": [],
   "source": []
  }
 ],
 "metadata": {
  "kernelspec": {
   "display_name": "Python 3",
   "language": "python",
   "name": "python3"
  },
  "language_info": {
   "codemirror_mode": {
    "name": "ipython",
    "version": 3
   },
   "file_extension": ".py",
   "mimetype": "text/x-python",
   "name": "python",
   "nbconvert_exporter": "python",
   "pygments_lexer": "ipython3",
   "version": "3.10.4"
  },
  "orig_nbformat": 4,
  "vscode": {
   "interpreter": {
    "hash": "f3e357dbe0344725464eaea79b7d7d35c46d891eb27bde5bba2cdf41c7c6e293"
   }
  }
 },
 "nbformat": 4,
 "nbformat_minor": 2
}

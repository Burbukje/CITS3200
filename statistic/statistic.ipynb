{
 "cells": [
  {
   "cell_type": "code",
   "execution_count": null,
   "metadata": {},
   "outputs": [],
   "source": [
    "#all code hasn't run , haven't found populated database\n",
    "from dataclasses import dataclass\n",
    "\n",
    "\n",
    "dataclass.objects.all().group_by('Classification')\n",
    "dataclass.objects.all().group_by('Category_1')\n",
    "dataclass.objects.all().group_by('SubCategory_1')"
   ]
  },
  {
   "cell_type": "code",
   "execution_count": null,
   "metadata": {},
   "outputs": [],
   "source": [
    "from django.db.models import Count\n",
    "result = (dataclass.objects\n",
    "    .values('Classification')\n",
    "    .annotate(dcount=Count('Classification'))\n",
    "    .order_by()\n",
    ")\n",
    "\n",
    "\n",
    "\n",
    "#output \n",
    "\n",
    "#[{'designation': 'Salesman', 'dcount': 2}, \n",
    "# {'designation': 'Manager', 'dcount': 2}]\n",
    "\n",
    "results = data.objects.raw('SELECT * FROM data GROUP BY Classification')\n",
    "\n",
    "\n",
    "#SELECT designation, COUNT(designation) AS dcount\n",
    "#FROM members GROUP BY designation"
   ]
  }
 ],
 "metadata": {
  "language_info": {
   "name": "python"
  },
  "orig_nbformat": 4
 },
 "nbformat": 4,
 "nbformat_minor": 2
}
